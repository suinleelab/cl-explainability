{
 "cells": [
  {
   "cell_type": "code",
   "execution_count": 1,
   "id": "cb6978ec-16b7-4c73-bf7d-5097a9927049",
   "metadata": {},
   "outputs": [],
   "source": [
    "import os\n",
    "\n",
    "import numpy as np\n",
    "import torchvision.transforms as transforms\n",
    "\n",
    "from cl_explain.data.datasets import MURAImageDataset"
   ]
  },
  {
   "cell_type": "code",
   "execution_count": 2,
   "id": "754964e1-1fc4-44a2-960c-1c837fec5bd0",
   "metadata": {},
   "outputs": [],
   "source": [
    "DATA_PATH = \"/projects/leelab/data/image\"\n",
    "dataset_path = os.path.join(DATA_PATH, \"mura\", \"MURA-v1.1\")"
   ]
  },
  {
   "cell_type": "code",
   "execution_count": 3,
   "id": "1ab24dd9-0b2d-4555-bd8b-f4ab53196569",
   "metadata": {},
   "outputs": [],
   "source": [
    "normalize = transforms.Normalize(\n",
    "    mean=[0.485, 0.456, 0.406],\n",
    "    std=[0.229, 0.224, 0.225],\n",
    ")\n",
    "transform = transforms.Compose(\n",
    "    [\n",
    "        transforms.Resize(256),\n",
    "        transforms.CenterCrop(224),\n",
    "        transforms.ToTensor(),\n",
    "        normalize,\n",
    "    ]\n",
    ")"
   ]
  },
  {
   "cell_type": "code",
   "execution_count": 4,
   "id": "2ac495e0-6244-4f44-a089-bed4248a5e2f",
   "metadata": {},
   "outputs": [],
   "source": [
    "train_dataset = MURAImageDataset(dataset_path, \"train\", transform=transform)\n",
    "val_dataset = MURAImageDataset(dataset_path, \"valid\", transform=transform)"
   ]
  },
  {
   "cell_type": "code",
   "execution_count": 5,
   "id": "8f9f3d94-4433-498d-9d18-338a37046540",
   "metadata": {},
   "outputs": [],
   "source": [
    "train_labels = [sample[1] for sample in train_dataset.samples]\n",
    "val_labels = [sample[1] for sample in val_dataset.samples]"
   ]
  },
  {
   "cell_type": "code",
   "execution_count": 6,
   "id": "13c76749-8264-4340-9b57-f9bf7e1806a6",
   "metadata": {},
   "outputs": [
    {
     "name": "stdout",
     "output_type": "stream",
     "text": [
      "Train positive label proportion: 0.40406976744186046\n"
     ]
    }
   ],
   "source": [
    "print(f\"Train positive label proportion: {np.mean(train_labels)}\")"
   ]
  },
  {
   "cell_type": "code",
   "execution_count": 7,
   "id": "d7c63003-81e4-4054-90c6-439383f4c3e5",
   "metadata": {},
   "outputs": [
    {
     "name": "stdout",
     "output_type": "stream",
     "text": [
      "Val positive label proportion: 0.4785736628088833\n"
     ]
    }
   ],
   "source": [
    "print(f\"Val positive label proportion: {np.mean(val_labels)}\")"
   ]
  }
 ],
 "metadata": {
  "kernelspec": {
   "display_name": "Python 3 (ipykernel)",
   "language": "python",
   "name": "python3"
  },
  "language_info": {
   "codemirror_mode": {
    "name": "ipython",
    "version": 3
   },
   "file_extension": ".py",
   "mimetype": "text/x-python",
   "name": "python",
   "nbconvert_exporter": "python",
   "pygments_lexer": "ipython3",
   "version": "3.7.13"
  }
 },
 "nbformat": 4,
 "nbformat_minor": 5
}
