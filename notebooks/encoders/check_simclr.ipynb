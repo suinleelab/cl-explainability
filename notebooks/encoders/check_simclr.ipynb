{
 "cells": [
  {
   "cell_type": "code",
   "execution_count": 1,
   "id": "a1429929-ab38-4577-8ebe-d23ecb44f367",
   "metadata": {},
   "outputs": [],
   "source": [
    "import os\n",
    "import torch\n",
    "import torchvision\n",
    "\n",
    "import torchvision.transforms as transforms\n",
    "\n",
    "from torch.utils.data import DataLoader\n",
    "\n",
    "from cl_explain.encoders.simclr.resnet_wider import resnet50x1, resnet50x2, resnet50x4"
   ]
  },
  {
   "cell_type": "code",
   "execution_count": 2,
   "id": "845de568-88c2-43b2-bd71-e1c739d3ee40",
   "metadata": {},
   "outputs": [],
   "source": [
    "device = \"cuda:6\"\n",
    "model_path = \"/projects/leelab/cl-explainability/models/simclr/\""
   ]
  },
  {
   "cell_type": "code",
   "execution_count": 3,
   "id": "11447400-aab8-4166-89d9-f5c6d8203a01",
   "metadata": {},
   "outputs": [],
   "source": [
    "def load_model(resnet_version, model_path, device):\n",
    "    if resnet_version == 1:\n",
    "        model = resnet50x1()\n",
    "        sd_path = os.path.join(model_path, \"resnet50-1x.pth\")\n",
    "    elif resnet_version == 2:\n",
    "        model = resnet50x2()\n",
    "        sd_path = os.path.join(model_path, \"resnet50-2x.pth\")\n",
    "    elif resnet_version == 4:\n",
    "        model = resnet50x4()\n",
    "        sd_path = os.path.join(model_path, \"resnet50-4x.pth\")\n",
    "    else:\n",
    "        raise NotImplementedError(\n",
    "            f\"ResNet50({resnet_version}x) is not implemented!\"\n",
    "        )\n",
    "    sd = torch.load(sd_path, map_location=\"cpu\")\n",
    "    model.load_state_dict(sd[\"state_dict\"])\n",
    "    model.to(device)\n",
    "    return model"
   ]
  },
  {
   "cell_type": "code",
   "execution_count": 4,
   "id": "2c4d8d65-be9a-430c-a43e-9994d35d334a",
   "metadata": {},
   "outputs": [],
   "source": [
    "def test_model(model, img, device):\n",
    "    img = img.to(device)\n",
    "    output = model(img, apply_eval_head=True)\n",
    "    rep = model(img, apply_eval_head=False)\n",
    "    \n",
    "    print(f\"Output dim = {output.shape[-1]}\")\n",
    "    print(f\"Representation dim = {rep.shape[-1]}\")"
   ]
  },
  {
   "cell_type": "code",
   "execution_count": 5,
   "id": "5c5f927e-25cd-4e6b-86c0-109fc1fbfc8e",
   "metadata": {},
   "outputs": [],
   "source": [
    "# Load in data.\n",
    "imagenette_path = \"/projects/leelab/data/image/imagenette2/val\"\n",
    "\n",
    "dataset = torchvision.datasets.ImageFolder(\n",
    "    imagenette_path,\n",
    "    transform=transforms.Compose(\n",
    "        [\n",
    "            transforms.Resize(256),\n",
    "            transforms.CenterCrop(224),\n",
    "            transforms.ToTensor(),\n",
    "            # Original model does not have normalization.\n",
    "        ]\n",
    "    ),\n",
    ")\n",
    "\n",
    "data_loader = DataLoader(dataset, batch_size=1)\n",
    "for img, target in data_loader:\n",
    "    break"
   ]
  },
  {
   "cell_type": "code",
   "execution_count": 6,
   "id": "479e1478-a45b-4160-88b6-4b7b885c5a70",
   "metadata": {},
   "outputs": [
    {
     "name": "stdout",
     "output_type": "stream",
     "text": [
      "ResNet50(1x)\n",
      "Output dim = 1000\n",
      "Representation dim = 2048\n",
      "\n",
      "ResNet50(2x)\n",
      "Output dim = 1000\n",
      "Representation dim = 4096\n",
      "\n",
      "ResNet50(4x)\n",
      "Output dim = 1000\n",
      "Representation dim = 8192\n",
      "\n"
     ]
    }
   ],
   "source": [
    "for resnet_version in [1, 2, 4]:\n",
    "    print(f\"ResNet50({resnet_version}x)\")\n",
    "    model = load_model(resnet_version, model_path, device)\n",
    "    test_model(model, img, device)\n",
    "    print(\"\")"
   ]
  },
  {
   "cell_type": "code",
   "execution_count": null,
   "id": "8979b311-9476-4500-bd27-61560f3f3897",
   "metadata": {},
   "outputs": [],
   "source": []
  }
 ],
 "metadata": {
  "kernelspec": {
   "display_name": "Python 3 (ipykernel)",
   "language": "python",
   "name": "python3"
  },
  "language_info": {
   "codemirror_mode": {
    "name": "ipython",
    "version": 3
   },
   "file_extension": ".py",
   "mimetype": "text/x-python",
   "name": "python",
   "nbconvert_exporter": "python",
   "pygments_lexer": "ipython3",
   "version": "3.7.13"
  }
 },
 "nbformat": 4,
 "nbformat_minor": 5
}
