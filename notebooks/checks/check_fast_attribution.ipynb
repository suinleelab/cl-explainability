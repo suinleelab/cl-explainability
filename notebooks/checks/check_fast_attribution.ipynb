{
 "cells": [
  {
   "cell_type": "code",
   "execution_count": 1,
   "id": "dec18695-2a90-48f9-8343-9bfca04d5665",
   "metadata": {},
   "outputs": [],
   "source": [
    "import os\n",
    "import torch\n",
    "import pickle"
   ]
  },
  {
   "cell_type": "code",
   "execution_count": 2,
   "id": "3068b483-f6c4-4c5b-8eaa-9e7b11e452a0",
   "metadata": {},
   "outputs": [],
   "source": [
    "def check_idx(fast_outputs, slow_outputs):\n",
    "    # Check all the sample indices match.\n",
    "    for target in range(10):\n",
    "        fast_output = fast_outputs[target]\n",
    "        slow_output = slow_outputs[target]\n",
    "        idx_keys = [key for key in fast_output if \"idx\" in key]\n",
    "        for idx_key in idx_keys:\n",
    "            assert torch.equal(fast_output[idx_key], slow_output[idx_key])\n",
    "    print(\"Indices all match!\")\n",
    "\n",
    "            \n",
    "def check_attribution(fast_outputs, slow_outputs):\n",
    "    # Check that the attribution scores match closely.\n",
    "    for target in range(10):\n",
    "        fast_attribution = fast_outputs[target][\"attributions\"]\n",
    "        slow_attribution = slow_outputs[target][\"attributions\"]\n",
    "\n",
    "        fast_flat_attribution = fast_attribution.flatten()\n",
    "        slow_flat_attribution = slow_attribution.flatten()\n",
    "\n",
    "        assert torch.all(\n",
    "            torch.isclose(fast_flat_attribution, slow_flat_attribution, atol=1e-07)\n",
    "        )\n",
    "    print(\"Attributions all match closely!\")"
   ]
  },
  {
   "cell_type": "code",
   "execution_count": 3,
   "id": "54c37c89-5f7e-47e1-b8c0-08e05d152c7f",
   "metadata": {},
   "outputs": [],
   "source": [
    "overall_path = \"/projects/leelab/cl-explainability/results/cifar/simsiam_18\""
   ]
  },
  {
   "cell_type": "code",
   "execution_count": 4,
   "id": "5da21670-f658-4b7c-875b-10c45d6c67c9",
   "metadata": {},
   "outputs": [
    {
     "name": "stdout",
     "output_type": "stream",
     "text": [
      "Indices all match!\n",
      "Attributions all match closely!\n"
     ]
    }
   ],
   "source": [
    "fast_contrastive_label_free_path = os.path.join(\n",
    "    overall_path,\n",
    "    \"fast_normalized_contrastive_self_weighted_int_grad\",\n",
    "    \"123\",\n",
    "    \"same_class_outputs_explicand_size=25_foil_size=1500_removal=blurring_blur_strength=5.0.pkl\",\n",
    ")\n",
    "slow_contrastive_label_free_path = os.path.join(\n",
    "    overall_path,\n",
    "    \"slow_normalized_contrastive_self_weighted_int_grad\",\n",
    "    \"123\",\n",
    "    \"same_class_outputs_explicand_size=25_foil_size=1500_removal=blurring_blur_strength=5.0.pkl\",\n",
    ")\n",
    "\n",
    "with open(fast_contrastive_label_free_path, \"rb\") as handle:\n",
    "    fast_outputs = pickle.load(handle)\n",
    "with open(slow_contrastive_label_free_path, \"rb\") as handle:\n",
    "    slow_outputs = pickle.load(handle)\n",
    "    \n",
    "check_idx(fast_outputs, slow_outputs)\n",
    "check_attribution(fast_outputs, slow_outputs)"
   ]
  },
  {
   "cell_type": "code",
   "execution_count": 5,
   "id": "c170a6e2-def4-45ab-835e-ca2fd4d1a516",
   "metadata": {},
   "outputs": [
    {
     "name": "stdout",
     "output_type": "stream",
     "text": [
      "Indices all match!\n",
      "Attributions all match closely!\n"
     ]
    }
   ],
   "source": [
    "fast_corpus_path = os.path.join(\n",
    "    overall_path,\n",
    "    \"fast_normalized_corpus_int_grad\",\n",
    "    \"123\",\n",
    "    \"same_class_outputs_explicand_size=25_corpus_size=100_removal=blurring_blur_strength=5.0.pkl\",\n",
    ")\n",
    "slow_corpus_path = os.path.join(\n",
    "    overall_path,\n",
    "    \"slow_normalized_corpus_int_grad\",\n",
    "    \"123\",\n",
    "    \"same_class_outputs_explicand_size=25_corpus_size=100_removal=blurring_blur_strength=5.0.pkl\",\n",
    ")\n",
    "\n",
    "with open(fast_corpus_path, \"rb\") as handle:\n",
    "    fast_outputs = pickle.load(handle)\n",
    "with open(slow_corpus_path, \"rb\") as handle:\n",
    "    slow_outputs = pickle.load(handle)\n",
    "    \n",
    "check_idx(fast_outputs, slow_outputs)\n",
    "check_attribution(fast_outputs, slow_outputs)"
   ]
  },
  {
   "cell_type": "code",
   "execution_count": 6,
   "id": "420a8611-e93e-4f55-9ff4-c7873f79b4f1",
   "metadata": {},
   "outputs": [
    {
     "name": "stdout",
     "output_type": "stream",
     "text": [
      "Indices all match!\n",
      "Attributions all match closely!\n"
     ]
    }
   ],
   "source": [
    "fast_contrastive_corpus_path = os.path.join(\n",
    "    overall_path,\n",
    "    \"fast_normalized_contrastive_corpus_int_grad\",\n",
    "    \"123\",\n",
    "    \"same_class_outputs_explicand_size=25_corpus_size=100_foil_size=1500_removal=blurring_blur_strength=5.0.pkl\",\n",
    ")\n",
    "slow_contrastive_corpus_path = os.path.join(\n",
    "    overall_path,\n",
    "    \"slow_normalized_contrastive_corpus_int_grad\",\n",
    "    \"123\",\n",
    "    \"same_class_outputs_explicand_size=25_corpus_size=100_foil_size=1500_removal=blurring_blur_strength=5.0.pkl\",\n",
    ")\n",
    "\n",
    "with open(fast_contrastive_corpus_path, \"rb\") as handle:\n",
    "    fast_outputs = pickle.load(handle)\n",
    "with open(slow_contrastive_corpus_path, \"rb\") as handle:\n",
    "    slow_outputs = pickle.load(handle)\n",
    "    \n",
    "check_idx(fast_outputs, slow_outputs)\n",
    "check_attribution(fast_outputs, slow_outputs)"
   ]
  },
  {
   "cell_type": "code",
   "execution_count": null,
   "id": "6882b412-a7ef-46f0-a4a8-0521d9b91a97",
   "metadata": {},
   "outputs": [],
   "source": []
  }
 ],
 "metadata": {
  "kernelspec": {
   "display_name": "Python 3 (ipykernel)",
   "language": "python",
   "name": "python3"
  },
  "language_info": {
   "codemirror_mode": {
    "name": "ipython",
    "version": 3
   },
   "file_extension": ".py",
   "mimetype": "text/x-python",
   "name": "python",
   "nbconvert_exporter": "python",
   "pygments_lexer": "ipython3",
   "version": "3.7.13"
  }
 },
 "nbformat": 4,
 "nbformat_minor": 5
}
